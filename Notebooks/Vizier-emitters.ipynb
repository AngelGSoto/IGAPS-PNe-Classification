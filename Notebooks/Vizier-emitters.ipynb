{
 "cells": [
  {
   "cell_type": "code",
   "execution_count": 1,
   "id": "e669f23c-cbd1-4aff-a30e-7e7506d8e628",
   "metadata": {},
   "outputs": [],
   "source": [
    "from astroquery.utils.tap.core import Tap\n",
    "import pyvo"
   ]
  },
  {
   "cell_type": "code",
   "execution_count": 2,
   "id": "81b80f2c-1efb-4075-84e3-0f12d650c889",
   "metadata": {},
   "outputs": [],
   "source": [
    "service = Tap(url=\"https://tapvizier.cds.unistra.fr/TAPVizieR/tap\")\n",
    "query = \"\"\"\n",
    "SELECT * \n",
    "FROM \"V/165\".igapsdr1\n",
    "WHERE emitter >= 1\n",
    "AND GLON BETWEEN 30 AND 215\n",
    "AND GLAT BETWEEN -5 AND 5\n",
    "\"\"\""
   ]
  },
  {
   "cell_type": "code",
   "execution_count": 3,
   "id": "76db3ebf-fde8-438c-8c67-57500351712a",
   "metadata": {},
   "outputs": [
    {
     "ename": "AttributeError",
     "evalue": "'Tap' object has no attribute 'submit_job'",
     "output_type": "error",
     "traceback": [
      "\u001b[0;31m---------------------------------------------------------------------------\u001b[0m",
      "\u001b[0;31mAttributeError\u001b[0m                            Traceback (most recent call last)",
      "Cell \u001b[0;32mIn[3], line 2\u001b[0m\n\u001b[1;32m      1\u001b[0m \u001b[38;5;66;03m# Enviar consulta asíncrona (sin timeout)\u001b[39;00m\n\u001b[0;32m----> 2\u001b[0m job \u001b[38;5;241m=\u001b[39m \u001b[43mservice\u001b[49m\u001b[38;5;241;43m.\u001b[39;49m\u001b[43msubmit_job\u001b[49m(query)\n\u001b[1;32m      3\u001b[0m job\u001b[38;5;241m.\u001b[39mrun()  \u001b[38;5;66;03m# El servidor procesa en segundo plano\u001b[39;00m\n",
      "\u001b[0;31mAttributeError\u001b[0m: 'Tap' object has no attribute 'submit_job'"
     ]
    }
   ],
   "source": [
    "# Enviar consulta asíncrona (sin timeout)\n",
    "job = service.submit_job(query)\n",
    "job.run()  # El servidor procesa en segundo plano\n"
   ]
  },
  {
   "cell_type": "code",
   "execution_count": null,
   "id": "5d4dabcd-7eba-4b5d-aacc-702fdb5878be",
   "metadata": {},
   "outputs": [],
   "source": [
    "lon_min = 30\n",
    "lon_max = 215\n",
    "step = 5  # Segmentos de 5° con solapamiento\n",
    "glon_ranges = np.arange(lon_min, lon_max, step)  # No superar 215°"
   ]
  },
  {
   "cell_type": "code",
   "execution_count": null,
   "id": "760b1b6a-e4d2-48c5-9ade-ac1d3a09d493",
   "metadata": {},
   "outputs": [],
   "source": [
    "tables = []\n",
    "for i, glon_start in enumerate(glon_ranges):\n",
    "    glon_end = min(glon_start + step + 0.1, lon_max)  # Solapamiento de 0.1°\n",
    "    print(f\"Segmento {i+1}/{len(glon_ranges)}: l = {glon_start} a {glon_end}\")\n",
    "    \n",
    "    max_retries = 3\n",
    "    for attempt in range(max_retries):\n",
    "        try:\n",
    "            catalog = v.query_constraints(\n",
    "                catalog=\"V/165\",\n",
    "                GLON=f\"{glon_start} .. {glon_end}\",\n",
    "                GLAT=\"-5 .. 5\"\n",
    "            )\n",
    "            if catalog:\n",
    "                tables.append(catalog[0])\n",
    "            time.sleep(2)\n",
    "            break  # Éxito, salir del bucle de reintentos\n",
    "        except Exception as e:\n",
    "            if attempt == max_retries - 1:\n",
    "                print(f\"Error en segmento {glon_start}-{glon_end}: {str(e)}\")\n",
    "            time.sleep(10)"
   ]
  },
  {
   "cell_type": "code",
   "execution_count": null,
   "id": "cf8ab6cb-9fb1-4168-9153-d49c26761397",
   "metadata": {},
   "outputs": [],
   "source": []
  }
 ],
 "metadata": {
  "kernelspec": {
   "display_name": "Python 3 (ipykernel)",
   "language": "python",
   "name": "python3"
  },
  "language_info": {
   "codemirror_mode": {
    "name": "ipython",
    "version": 3
   },
   "file_extension": ".py",
   "mimetype": "text/x-python",
   "name": "python",
   "nbconvert_exporter": "python",
   "pygments_lexer": "ipython3",
   "version": "3.12.4"
  }
 },
 "nbformat": 4,
 "nbformat_minor": 5
}
