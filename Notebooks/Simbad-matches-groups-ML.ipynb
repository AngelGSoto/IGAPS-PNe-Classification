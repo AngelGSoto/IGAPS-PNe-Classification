{
 "cells": [
  {
   "cell_type": "code",
   "execution_count": 1,
   "id": "a787e506",
   "metadata": {},
   "outputs": [],
   "source": [
    "from astropy.io import fits\n",
    "import numpy as np\n",
    "from astropy.table import Table\n",
    "import pandas as pd\n",
    "import glob\n",
    "from astropy.table import vstack\n",
    "import seaborn as sns"
   ]
  },
  {
   "cell_type": "code",
   "execution_count": 2,
   "id": "b9d20a24",
   "metadata": {},
   "outputs": [],
   "source": [
    "def simad_type(Path, file_):\n",
    "    df = pd.read_csv(Path + file_)\n",
    "    print(file_.split(\"emitter_\")[-1].split(\"-sim\")[0], \", Number of object:\", len(df))\n",
    "    dict_simbad_ = df[\"main_type\"].value_counts().to_dict()\n",
    "    return dict_simbad_"
   ]
  },
  {
   "cell_type": "markdown",
   "id": "a19643df",
   "metadata": {},
   "source": [
    "# Main survey"
   ]
  },
  {
   "cell_type": "markdown",
   "id": "1b17ccd5",
   "metadata": {},
   "source": [
    "## Just splus colors "
   ]
  },
  {
   "cell_type": "code",
   "execution_count": 3,
   "id": "7da7d748",
   "metadata": {},
   "outputs": [
    {
     "name": "stdout",
     "output_type": "stream",
     "text": [
      "wise_group0 , Number of object: 1023\n"
     ]
    },
    {
     "data": {
      "text/plain": [
       "{'EmLine*': 567,\n",
       " 'Be*': 156,\n",
       " 'Star': 68,\n",
       " 'YSO_Candidate': 46,\n",
       " 'EclBin': 35,\n",
       " 'YSO': 26,\n",
       " 'CataclyV*': 22,\n",
       " 'RSCVnV*': 21,\n",
       " 'LongPeriodV*': 19,\n",
       " 'TTauri*': 16,\n",
       " 'BYDraV*': 9,\n",
       " 'Variable*': 7,\n",
       " 'HighPM*': 7,\n",
       " 'Be*_Candidate': 5,\n",
       " 'OrionV*': 2,\n",
       " 'PulsV*': 2,\n",
       " '**': 1,\n",
       " 'UV': 1,\n",
       " 'BlueStraggler': 1,\n",
       " 'Low-Mass*': 1,\n",
       " 'LongPeriodV*_Candidate': 1,\n",
       " 'Nova': 1,\n",
       " 'HighMassXBin': 1,\n",
       " 'WhiteDwarf_Candidate': 1,\n",
       " 'ChemPec*': 1,\n",
       " 'CataclyV*_Candidate': 1,\n",
       " 'MidIR': 1,\n",
       " 'delSctV*': 1,\n",
       " 'RRLyrae_Candidate': 1,\n",
       " 'Ae*': 1,\n",
       " 'SB*': 1}"
      ]
     },
     "execution_count": 3,
     "metadata": {},
     "output_type": "execute_result"
    }
   ],
   "source": [
    "g0 = simad_type(\"../Class_wise_v4/\", \"Halpha_emitter_wise_group0-simbad.csv\")\n",
    "g0"
   ]
  },
  {
   "cell_type": "code",
   "execution_count": 4,
   "id": "f2880aaa",
   "metadata": {},
   "outputs": [
    {
     "name": "stdout",
     "output_type": "stream",
     "text": [
      "wise_group1 , Number of object: 500\n"
     ]
    },
    {
     "data": {
      "text/plain": [
       "{'EmLine*': 136,\n",
       " 'YSO': 79,\n",
       " 'YSO_Candidate': 61,\n",
       " 'LongPeriodV*': 49,\n",
       " 'OrionV*': 31,\n",
       " 'LongPeriodV*_Candidate': 27,\n",
       " 'TTauri*': 26,\n",
       " 'RSCVnV*': 25,\n",
       " 'Star': 20,\n",
       " 'EclBin': 10,\n",
       " 'Be*': 9,\n",
       " 'PlanetaryNeb_Candidate': 5,\n",
       " 'AGB*_Candidate': 4,\n",
       " 'BYDraV*': 3,\n",
       " 'PlanetaryNeb': 2,\n",
       " 'Ae*': 2,\n",
       " 'Be*_Candidate': 2,\n",
       " 'Mira': 2,\n",
       " 'HighMassXBin': 1,\n",
       " 'CataclyV*_Candidate': 1,\n",
       " 'WolfRayet*': 1,\n",
       " 'Symbiotic*': 1,\n",
       " '**': 1,\n",
       " 'CataclyV*': 1,\n",
       " 'WolfRayet*_Candidate': 1}"
      ]
     },
     "execution_count": 4,
     "metadata": {},
     "output_type": "execute_result"
    }
   ],
   "source": [
    "g1 = simad_type(\"../Class_wise_v4/\", \"Halpha_emitter_wise_group1-simbad.csv\")\n",
    "g1"
   ]
  },
  {
   "cell_type": "code",
   "execution_count": 5,
   "id": "471f8973",
   "metadata": {},
   "outputs": [
    {
     "name": "stdout",
     "output_type": "stream",
     "text": [
      "wise_group2 , Number of object: 77\n"
     ]
    },
    {
     "data": {
      "text/plain": [
       "{'YSO': 26,\n",
       " 'EmLine*': 13,\n",
       " 'YSO_Candidate': 11,\n",
       " 'OrionV*': 11,\n",
       " 'TTauri*': 8,\n",
       " 'BYDraV*': 3,\n",
       " 'Star': 2,\n",
       " 'LongPeriodV*': 1,\n",
       " 'RSCVnV*': 1,\n",
       " 'RRLyrae': 1}"
      ]
     },
     "execution_count": 5,
     "metadata": {},
     "output_type": "execute_result"
    }
   ],
   "source": [
    "g2 = simad_type(\"../Class_wise_v4/\", \"Halpha_emitter_wise_group2-simbad.csv\")\n",
    "g2"
   ]
  },
  {
   "cell_type": "code",
   "execution_count": 6,
   "id": "2b5585fa",
   "metadata": {},
   "outputs": [
    {
     "name": "stdout",
     "output_type": "stream",
     "text": [
      "wise_group3 , Number of object: 79\n"
     ]
    },
    {
     "data": {
      "text/plain": [
       "{'EmLine*': 28,\n",
       " 'YSO': 16,\n",
       " 'OrionV*': 8,\n",
       " 'TTauri*': 7,\n",
       " 'Star': 7,\n",
       " 'LongPeriodV*': 6,\n",
       " 'YSO_Candidate': 3,\n",
       " 'LongPeriodV*_Candidate': 2,\n",
       " 'BYDraV*': 2}"
      ]
     },
     "execution_count": 6,
     "metadata": {},
     "output_type": "execute_result"
    }
   ],
   "source": [
    "g3 = simad_type(\"../Class_wise_v4/\", \"Halpha_emitter_wise_group3-simbad.csv\")\n",
    "g3"
   ]
  },
  {
   "cell_type": "code",
   "execution_count": 7,
   "id": "0d4c41e3-ca29-40bd-ba2c-16c783816b1f",
   "metadata": {},
   "outputs": [
    {
     "name": "stdout",
     "output_type": "stream",
     "text": [
      "wise_group4 , Number of object: 202\n"
     ]
    },
    {
     "data": {
      "text/plain": [
       "{'YSO_Candidate': 42,\n",
       " 'YSO': 41,\n",
       " 'EmLine*': 27,\n",
       " 'TTauri*': 22,\n",
       " 'Star': 19,\n",
       " 'PlanetaryNeb': 15,\n",
       " 'OrionV*': 10,\n",
       " 'PlanetaryNeb_Candidate': 9,\n",
       " 'LongPeriodV*': 5,\n",
       " 'BYDraV*': 4,\n",
       " 'RSCVnV*': 3,\n",
       " 'EclBin': 3,\n",
       " 'TTauri*_Candidate': 1,\n",
       " 'RRLyrae_Candidate': 1}"
      ]
     },
     "execution_count": 7,
     "metadata": {},
     "output_type": "execute_result"
    }
   ],
   "source": [
    "g4 = simad_type(\"../Class_wise_v4/\", \"Halpha_emitter_wise_group4-simbad.csv\")\n",
    "g4"
   ]
  },
  {
   "cell_type": "code",
   "execution_count": 8,
   "id": "6f0ce19b-e190-41da-a009-88d008951b5e",
   "metadata": {},
   "outputs": [
    {
     "name": "stdout",
     "output_type": "stream",
     "text": [
      "wise_noise , Number of object: 995\n"
     ]
    },
    {
     "data": {
      "text/plain": [
       "{'EmLine*': 348,\n",
       " 'YSO': 155,\n",
       " 'YSO_Candidate': 119,\n",
       " 'TTauri*': 95,\n",
       " 'OrionV*': 53,\n",
       " 'Star': 46,\n",
       " 'RSCVnV*': 40,\n",
       " 'LongPeriodV*': 27,\n",
       " 'EclBin': 26,\n",
       " 'BYDraV*': 20,\n",
       " 'Be*': 11,\n",
       " 'LongPeriodV*_Candidate': 9,\n",
       " 'Variable*': 9,\n",
       " 'CataclyV*': 7,\n",
       " 'CataclyV*_Candidate': 5,\n",
       " 'PlanetaryNeb': 5,\n",
       " 'PlanetaryNeb_Candidate': 4,\n",
       " 'HighPM*': 3,\n",
       " 'Mira': 2,\n",
       " 'Ae*': 2,\n",
       " '**': 2,\n",
       " 'Symbiotic*': 2,\n",
       " 'Infrared': 1,\n",
       " 'ClassicalCep': 1,\n",
       " 'MidIR': 1,\n",
       " 'Ae*_Candidate': 1,\n",
       " 'Transient': 1}"
      ]
     },
     "execution_count": 8,
     "metadata": {},
     "output_type": "execute_result"
    }
   ],
   "source": [
    "g_noise = simad_type(\"../Class_wise_v4/\", \"Halpha_emitter_wise_noise-simbad.csv\")\n",
    "g_noise"
   ]
  },
  {
   "cell_type": "markdown",
   "id": "d912a70f",
   "metadata": {},
   "source": [
    "## All colors (except the r-filter for variability)"
   ]
  },
  {
   "cell_type": "code",
   "execution_count": 9,
   "id": "2185ace4",
   "metadata": {},
   "outputs": [
    {
     "name": "stdout",
     "output_type": "stream",
     "text": [
      "wise_group0 , Number of object: 75\n",
      "Group0 {'EmLine*': 28, 'YSO': 14, 'YSO_Candidate': 7, 'Be*': 7, 'TTauri*': 4, 'EclBin': 3, 'OrionV*': 3, 'LongPeriodV*': 3, 'Variable*': 2, 'Star': 2, 'RSCVnV*': 1, 'Ae*_Candidate': 1}\n"
     ]
    }
   ],
   "source": [
    "gw0 = simad_type(\"../Class_wise/\", \"Halpha_emitter_wise_group0-simbad.csv\")\n",
    "print(\"Group0\", gw0)"
   ]
  },
  {
   "cell_type": "code",
   "execution_count": 10,
   "id": "0c2cda28",
   "metadata": {},
   "outputs": [
    {
     "name": "stdout",
     "output_type": "stream",
     "text": [
      "wise_group1 , Number of object: 1062\n",
      "Group1 {'EmLine*': 615, 'Be*': 157, 'Star': 66, 'YSO_Candidate': 41, 'EclBin': 33, 'CataclyV*': 27, 'YSO': 18, 'LongPeriodV*': 17, 'RSCVnV*': 14, 'TTauri*': 13, 'Variable*': 10, 'HighPM*': 10, 'BYDraV*': 9, 'Be*_Candidate': 5, 'CataclyV*_Candidate': 4, 'OrionV*': 3, 'HighMassXBin': 2, 'LongPeriodV*_Candidate': 2, 'PulsV*': 2, 'PlanetaryNeb': 1, 'Nova': 1, 'UV': 1, 'BlueStraggler': 1, 'Low-Mass*': 1, 'Transient': 1, 'ChemPec*': 1, '**': 1, 'WhiteDwarf_Candidate': 1, 'Mira': 1, 'delSctV*': 1, 'RRLyrae_Candidate': 1, 'Ae*': 1, 'SB*': 1}\n"
     ]
    }
   ],
   "source": [
    "gw1 = simad_type(\"../Class_wise/\", \"Halpha_emitter_wise_group1-simbad.csv\")\n",
    "print(\"Group1\", gw1)"
   ]
  },
  {
   "cell_type": "code",
   "execution_count": 11,
   "id": "a4c6dfc0",
   "metadata": {},
   "outputs": [
    {
     "name": "stdout",
     "output_type": "stream",
     "text": [
      "wise_group2 , Number of object: 155\n",
      "Group2 {'EmLine*': 41, 'YSO': 26, 'YSO_Candidate': 24, 'TTauri*': 24, 'Star': 12, 'OrionV*': 12, 'PlanetaryNeb': 3, 'LongPeriodV*': 3, 'BYDraV*': 3, 'EclBin': 2, 'PlanetaryNeb_Candidate': 2, 'TTauri*_Candidate': 1, 'RSCVnV*': 1, 'CataclyV*_Candidate': 1}\n"
     ]
    }
   ],
   "source": [
    "gw2 = simad_type(\"../Class_wise/\", \"Halpha_emitter_wise_group2-simbad.csv\")\n",
    "print(\"Group2\",gw2)"
   ]
  },
  {
   "cell_type": "code",
   "execution_count": 12,
   "id": "6dd4361a",
   "metadata": {},
   "outputs": [
    {
     "name": "stdout",
     "output_type": "stream",
     "text": [
      "wise_group3 , Number of object: 94\n",
      "Gropu3 {'YSO_Candidate': 21, 'YSO': 19, 'EmLine*': 18, 'RSCVnV*': 11, 'OrionV*': 8, 'Star': 6, 'EclBin': 4, 'TTauri*': 3, 'LongPeriodV*_Candidate': 2, '**': 1, 'MidIR': 1}\n"
     ]
    }
   ],
   "source": [
    "gw3 = simad_type(\"../Class_wise/\", \"Halpha_emitter_wise_group3-simbad.csv\")\n",
    "print(\"Gropu3\", gw3)"
   ]
  },
  {
   "cell_type": "code",
   "execution_count": 13,
   "id": "80b3eed9",
   "metadata": {},
   "outputs": [
    {
     "name": "stdout",
     "output_type": "stream",
     "text": [
      "wise_group4 , Number of object: 116\n",
      "Gropu4 {'EmLine*': 40, 'YSO_Candidate': 18, 'LongPeriodV*': 12, 'LongPeriodV*_Candidate': 9, 'YSO': 7, 'EclBin': 6, 'TTauri*': 6, 'Be*': 6, 'OrionV*': 5, 'Star': 3, 'RSCVnV*': 2, 'Ae*': 1, 'WolfRayet*': 1}\n"
     ]
    }
   ],
   "source": [
    "gw4 = simad_type(\"../Class_wise/\", \"Halpha_emitter_wise_group4-simbad.csv\")\n",
    "print(\"Gropu4\", gw4)"
   ]
  },
  {
   "cell_type": "code",
   "execution_count": 14,
   "id": "596a18cc",
   "metadata": {},
   "outputs": [
    {
     "name": "stdout",
     "output_type": "stream",
     "text": [
      "wise_group5 , Number of object: 87\n",
      "Gropu5 {'EmLine*': 25, 'YSO': 12, 'LongPeriodV*': 9, 'YSO_Candidate': 9, 'LongPeriodV*_Candidate': 8, 'RSCVnV*': 5, 'OrionV*': 5, 'EclBin': 3, 'TTauri*': 3, 'BYDraV*': 2, 'Be*': 2, 'ClassicalCep': 1, 'Ae*': 1, 'Star': 1, 'RRLyrae': 1}\n"
     ]
    }
   ],
   "source": [
    "gw5 = simad_type(\"../Class_wise/\", \"Halpha_emitter_wise_group5-simbad.csv\")\n",
    "print(\"Gropu5\", gw5)"
   ]
  },
  {
   "cell_type": "code",
   "execution_count": 15,
   "id": "7cf1d346",
   "metadata": {},
   "outputs": [
    {
     "name": "stdout",
     "output_type": "stream",
     "text": [
      "wise_group6 , Number of object: 225\n",
      "Gropu6 {'YSO': 59, 'EmLine*': 36, 'YSO_Candidate': 35, 'LongPeriodV*': 25, 'OrionV*': 18, 'Star': 13, 'PlanetaryNeb_Candidate': 8, 'LongPeriodV*_Candidate': 6, 'TTauri*': 5, 'RSCVnV*': 3, 'PlanetaryNeb': 3, 'AGB*_Candidate': 3, 'BYDraV*': 2, 'Mira': 2, 'Be*_Candidate': 2, 'Infrared': 1, 'Variable*': 1, 'Ae*': 1, 'EclBin': 1, 'WolfRayet*_Candidate': 1}\n"
     ]
    }
   ],
   "source": [
    "gw6 = simad_type(\"../Class_wise/\", \"Halpha_emitter_wise_group6-simbad.csv\")\n",
    "print(\"Gropu6\", gw6)"
   ]
  },
  {
   "cell_type": "markdown",
   "id": "347b7613-4c3f-445a-acf3-01a0bd567c29",
   "metadata": {},
   "source": [
    "# Disk "
   ]
  },
  {
   "cell_type": "markdown",
   "id": "79ec3acf-4343-4a03-8714-9ad2f9c502de",
   "metadata": {},
   "source": [
    "## Just SPLUS"
   ]
  },
  {
   "cell_type": "code",
   "execution_count": 25,
   "id": "ccad4fbf-610e-4161-890f-15ad31309d1d",
   "metadata": {},
   "outputs": [
    {
     "name": "stdout",
     "output_type": "stream",
     "text": [
      "Number of object: 29\n"
     ]
    },
    {
     "data": {
      "text/plain": [
       "{'Em*': 7,\n",
       " 'Star': 5,\n",
       " 'CataclyV*': 4,\n",
       " 'Hsd_Candidate': 3,\n",
       " 'V*': 2,\n",
       " 'WD*_Candidate': 2,\n",
       " 'CV*_Candidate': 1,\n",
       " 'RRLyr': 1,\n",
       " 'Transient': 1,\n",
       " 'X': 1,\n",
       " 'Nova': 1,\n",
       " 'PulsV*': 1}"
      ]
     },
     "execution_count": 25,
     "metadata": {},
     "output_type": "execute_result"
    }
   ],
   "source": [
    "gd0 = simad_type(\"../Class_disk-unique/\", \"Halpha_emitter_disk_group0_simbad.csv\")\n",
    "gd0"
   ]
  },
  {
   "cell_type": "code",
   "execution_count": 24,
   "id": "11233355-ed39-441e-95dc-759dbfd058a4",
   "metadata": {},
   "outputs": [
    {
     "name": "stdout",
     "output_type": "stream",
     "text": [
      "Number of object: 106\n"
     ]
    },
    {
     "data": {
      "text/plain": [
       "{'Em*': 58,\n",
       " 'YSO_Candidate': 29,\n",
       " 'Star': 7,\n",
       " 'LP*_Candidate': 3,\n",
       " 'RSCVn': 2,\n",
       " 'YSO': 2,\n",
       " 'EB*': 1,\n",
       " 'BYDra': 1,\n",
       " '**': 1,\n",
       " 'TTau*_Candidate': 1,\n",
       " 'Orion_V*': 1}"
      ]
     },
     "execution_count": 24,
     "metadata": {},
     "output_type": "execute_result"
    }
   ],
   "source": [
    "gd1 = simad_type(\"../Class_disk-unique/\", \"Halpha_emitter_disk_group1_simbad.csv\")\n",
    "gd1"
   ]
  },
  {
   "cell_type": "code",
   "execution_count": 23,
   "id": "846c8c77-5532-4dcb-aa23-c05ddeeb93a3",
   "metadata": {},
   "outputs": [
    {
     "name": "stdout",
     "output_type": "stream",
     "text": [
      "Number of object: 205\n"
     ]
    },
    {
     "data": {
      "text/plain": [
       "{'Star': 77,\n",
       " 'EB*_Candidate': 38,\n",
       " 'SB*': 16,\n",
       " 'EB*': 15,\n",
       " 'V*': 8,\n",
       " 'PulsV*delSct': 7,\n",
       " 'Em*': 7,\n",
       " 'RRLyr': 6,\n",
       " 'YSO_Candidate': 4,\n",
       " 'LPV*': 4,\n",
       " 'LP*_Candidate': 4,\n",
       " 'PulsV*': 3,\n",
       " 'Be*': 3,\n",
       " 'RGB*': 2,\n",
       " 'EmObj': 2,\n",
       " '**': 2,\n",
       " 'YSO': 2,\n",
       " 'C*': 1,\n",
       " 'deltaCep': 1,\n",
       " 'V*?_Candidate': 1,\n",
       " 'Cepheid_Candidate': 1,\n",
       " 'Ae*_Candidate': 1}"
      ]
     },
     "execution_count": 23,
     "metadata": {},
     "output_type": "execute_result"
    }
   ],
   "source": [
    "gd2 = simad_type(\"../Class_disk-unique/\", \"Halpha_emitter_disk_group2_simbad.csv\")\n",
    "gd2"
   ]
  },
  {
   "cell_type": "code",
   "execution_count": 22,
   "id": "bb3b184d-eefe-424e-9a3b-22444e7de3e0",
   "metadata": {},
   "outputs": [
    {
     "name": "stdout",
     "output_type": "stream",
     "text": [
      "Number of object: 10\n"
     ]
    },
    {
     "data": {
      "text/plain": [
       "{'Star': 3, 'Em*': 2, 'V*': 2, '**': 1, 'PulsV*': 1, 'SB*': 1}"
      ]
     },
     "execution_count": 22,
     "metadata": {},
     "output_type": "execute_result"
    }
   ],
   "source": [
    "gdnoise = simad_type(\"../Class_disk-unique/\", \"Halpha_emitter_disk_group_noise_simbad.csv\")\n",
    "gdnoise"
   ]
  },
  {
   "cell_type": "markdown",
   "id": "616ae761-a6ac-44cc-b560-bb9b03201652",
   "metadata": {},
   "source": [
    "## SPLUS + WISE (disk)"
   ]
  },
  {
   "cell_type": "code",
   "execution_count": 28,
   "id": "31e5565f-bd1a-49b8-bf8c-8e6af5ad8597",
   "metadata": {},
   "outputs": [
    {
     "name": "stdout",
     "output_type": "stream",
     "text": [
      "Number of object: 105\n"
     ]
    },
    {
     "data": {
      "text/plain": [
       "{'Em*': 57,\n",
       " 'YSO_Candidate': 29,\n",
       " 'Star': 7,\n",
       " 'LP*_Candidate': 3,\n",
       " 'YSO': 2,\n",
       " 'BYDra': 1,\n",
       " 'RSCVn': 1,\n",
       " '**': 1,\n",
       " 'TTau*_Candidate': 1,\n",
       " 'V*': 1,\n",
       " 'Ae*_Candidate': 1,\n",
       " 'LPV*': 1}"
      ]
     },
     "execution_count": 28,
     "metadata": {},
     "output_type": "execute_result"
    }
   ],
   "source": [
    "gdw0 = simad_type(\"../Class_disk-wise-unique/\", \"Halpha_emitter_disk_wise_group0-simbad.csv\")\n",
    "gdw0"
   ]
  },
  {
   "cell_type": "code",
   "execution_count": 6,
   "id": "071efd06-a6a8-47c9-9824-835e9ded1e47",
   "metadata": {},
   "outputs": [
    {
     "ename": "FileNotFoundError",
     "evalue": "[Errno 2] No such file or directory: '../Class_disk-wise-unique/Halpha_emitter_disk_wise_group1-simbad.csv'",
     "output_type": "error",
     "traceback": [
      "\u001b[0;31m---------------------------------------------------------------------------\u001b[0m",
      "\u001b[0;31mFileNotFoundError\u001b[0m                         Traceback (most recent call last)",
      "Cell \u001b[0;32mIn[6], line 1\u001b[0m\n\u001b[0;32m----> 1\u001b[0m gdw1 \u001b[38;5;241m=\u001b[39m \u001b[43msimad_type\u001b[49m\u001b[43m(\u001b[49m\u001b[38;5;124;43m\"\u001b[39;49m\u001b[38;5;124;43m../Class_disk-wise-unique/\u001b[39;49m\u001b[38;5;124;43m\"\u001b[39;49m\u001b[43m,\u001b[49m\u001b[43m \u001b[49m\u001b[38;5;124;43m\"\u001b[39;49m\u001b[38;5;124;43mHalpha_emitter_disk_wise_group1-simbad.csv\u001b[39;49m\u001b[38;5;124;43m\"\u001b[39;49m\u001b[43m)\u001b[49m\n\u001b[1;32m      2\u001b[0m gdw1\n",
      "Cell \u001b[0;32mIn[2], line 2\u001b[0m, in \u001b[0;36msimad_type\u001b[0;34m(Path, file_)\u001b[0m\n\u001b[1;32m      1\u001b[0m \u001b[38;5;28;01mdef\u001b[39;00m \u001b[38;5;21msimad_type\u001b[39m(Path, file_):\n\u001b[0;32m----> 2\u001b[0m     df \u001b[38;5;241m=\u001b[39m \u001b[43mpd\u001b[49m\u001b[38;5;241;43m.\u001b[39;49m\u001b[43mread_csv\u001b[49m\u001b[43m(\u001b[49m\u001b[43mPath\u001b[49m\u001b[43m \u001b[49m\u001b[38;5;241;43m+\u001b[39;49m\u001b[43m \u001b[49m\u001b[43mfile_\u001b[49m\u001b[43m)\u001b[49m\n\u001b[1;32m      3\u001b[0m     \u001b[38;5;28mprint\u001b[39m(file_\u001b[38;5;241m.\u001b[39msplit(\u001b[38;5;124m\"\u001b[39m\u001b[38;5;124memitter_\u001b[39m\u001b[38;5;124m\"\u001b[39m)[\u001b[38;5;241m-\u001b[39m\u001b[38;5;241m1\u001b[39m]\u001b[38;5;241m.\u001b[39msplit(\u001b[38;5;124m\"\u001b[39m\u001b[38;5;124m-sim\u001b[39m\u001b[38;5;124m\"\u001b[39m)[\u001b[38;5;241m0\u001b[39m], \u001b[38;5;124m\"\u001b[39m\u001b[38;5;124m, Number of object:\u001b[39m\u001b[38;5;124m\"\u001b[39m, \u001b[38;5;28mlen\u001b[39m(df))\n\u001b[1;32m      4\u001b[0m     dict_simbad_ \u001b[38;5;241m=\u001b[39m df[\u001b[38;5;124m\"\u001b[39m\u001b[38;5;124mmain_type\u001b[39m\u001b[38;5;124m\"\u001b[39m]\u001b[38;5;241m.\u001b[39mvalue_counts()\u001b[38;5;241m.\u001b[39mto_dict()\n",
      "File \u001b[0;32m~/anaconda3/envs/myenv/lib/python3.12/site-packages/pandas/io/parsers/readers.py:1026\u001b[0m, in \u001b[0;36mread_csv\u001b[0;34m(filepath_or_buffer, sep, delimiter, header, names, index_col, usecols, dtype, engine, converters, true_values, false_values, skipinitialspace, skiprows, skipfooter, nrows, na_values, keep_default_na, na_filter, verbose, skip_blank_lines, parse_dates, infer_datetime_format, keep_date_col, date_parser, date_format, dayfirst, cache_dates, iterator, chunksize, compression, thousands, decimal, lineterminator, quotechar, quoting, doublequote, escapechar, comment, encoding, encoding_errors, dialect, on_bad_lines, delim_whitespace, low_memory, memory_map, float_precision, storage_options, dtype_backend)\u001b[0m\n\u001b[1;32m   1013\u001b[0m kwds_defaults \u001b[38;5;241m=\u001b[39m _refine_defaults_read(\n\u001b[1;32m   1014\u001b[0m     dialect,\n\u001b[1;32m   1015\u001b[0m     delimiter,\n\u001b[0;32m   (...)\u001b[0m\n\u001b[1;32m   1022\u001b[0m     dtype_backend\u001b[38;5;241m=\u001b[39mdtype_backend,\n\u001b[1;32m   1023\u001b[0m )\n\u001b[1;32m   1024\u001b[0m kwds\u001b[38;5;241m.\u001b[39mupdate(kwds_defaults)\n\u001b[0;32m-> 1026\u001b[0m \u001b[38;5;28;01mreturn\u001b[39;00m \u001b[43m_read\u001b[49m\u001b[43m(\u001b[49m\u001b[43mfilepath_or_buffer\u001b[49m\u001b[43m,\u001b[49m\u001b[43m \u001b[49m\u001b[43mkwds\u001b[49m\u001b[43m)\u001b[49m\n",
      "File \u001b[0;32m~/anaconda3/envs/myenv/lib/python3.12/site-packages/pandas/io/parsers/readers.py:620\u001b[0m, in \u001b[0;36m_read\u001b[0;34m(filepath_or_buffer, kwds)\u001b[0m\n\u001b[1;32m    617\u001b[0m _validate_names(kwds\u001b[38;5;241m.\u001b[39mget(\u001b[38;5;124m\"\u001b[39m\u001b[38;5;124mnames\u001b[39m\u001b[38;5;124m\"\u001b[39m, \u001b[38;5;28;01mNone\u001b[39;00m))\n\u001b[1;32m    619\u001b[0m \u001b[38;5;66;03m# Create the parser.\u001b[39;00m\n\u001b[0;32m--> 620\u001b[0m parser \u001b[38;5;241m=\u001b[39m \u001b[43mTextFileReader\u001b[49m\u001b[43m(\u001b[49m\u001b[43mfilepath_or_buffer\u001b[49m\u001b[43m,\u001b[49m\u001b[43m \u001b[49m\u001b[38;5;241;43m*\u001b[39;49m\u001b[38;5;241;43m*\u001b[39;49m\u001b[43mkwds\u001b[49m\u001b[43m)\u001b[49m\n\u001b[1;32m    622\u001b[0m \u001b[38;5;28;01mif\u001b[39;00m chunksize \u001b[38;5;129;01mor\u001b[39;00m iterator:\n\u001b[1;32m    623\u001b[0m     \u001b[38;5;28;01mreturn\u001b[39;00m parser\n",
      "File \u001b[0;32m~/anaconda3/envs/myenv/lib/python3.12/site-packages/pandas/io/parsers/readers.py:1620\u001b[0m, in \u001b[0;36mTextFileReader.__init__\u001b[0;34m(self, f, engine, **kwds)\u001b[0m\n\u001b[1;32m   1617\u001b[0m     \u001b[38;5;28mself\u001b[39m\u001b[38;5;241m.\u001b[39moptions[\u001b[38;5;124m\"\u001b[39m\u001b[38;5;124mhas_index_names\u001b[39m\u001b[38;5;124m\"\u001b[39m] \u001b[38;5;241m=\u001b[39m kwds[\u001b[38;5;124m\"\u001b[39m\u001b[38;5;124mhas_index_names\u001b[39m\u001b[38;5;124m\"\u001b[39m]\n\u001b[1;32m   1619\u001b[0m \u001b[38;5;28mself\u001b[39m\u001b[38;5;241m.\u001b[39mhandles: IOHandles \u001b[38;5;241m|\u001b[39m \u001b[38;5;28;01mNone\u001b[39;00m \u001b[38;5;241m=\u001b[39m \u001b[38;5;28;01mNone\u001b[39;00m\n\u001b[0;32m-> 1620\u001b[0m \u001b[38;5;28mself\u001b[39m\u001b[38;5;241m.\u001b[39m_engine \u001b[38;5;241m=\u001b[39m \u001b[38;5;28;43mself\u001b[39;49m\u001b[38;5;241;43m.\u001b[39;49m\u001b[43m_make_engine\u001b[49m\u001b[43m(\u001b[49m\u001b[43mf\u001b[49m\u001b[43m,\u001b[49m\u001b[43m \u001b[49m\u001b[38;5;28;43mself\u001b[39;49m\u001b[38;5;241;43m.\u001b[39;49m\u001b[43mengine\u001b[49m\u001b[43m)\u001b[49m\n",
      "File \u001b[0;32m~/anaconda3/envs/myenv/lib/python3.12/site-packages/pandas/io/parsers/readers.py:1880\u001b[0m, in \u001b[0;36mTextFileReader._make_engine\u001b[0;34m(self, f, engine)\u001b[0m\n\u001b[1;32m   1878\u001b[0m     \u001b[38;5;28;01mif\u001b[39;00m \u001b[38;5;124m\"\u001b[39m\u001b[38;5;124mb\u001b[39m\u001b[38;5;124m\"\u001b[39m \u001b[38;5;129;01mnot\u001b[39;00m \u001b[38;5;129;01min\u001b[39;00m mode:\n\u001b[1;32m   1879\u001b[0m         mode \u001b[38;5;241m+\u001b[39m\u001b[38;5;241m=\u001b[39m \u001b[38;5;124m\"\u001b[39m\u001b[38;5;124mb\u001b[39m\u001b[38;5;124m\"\u001b[39m\n\u001b[0;32m-> 1880\u001b[0m \u001b[38;5;28mself\u001b[39m\u001b[38;5;241m.\u001b[39mhandles \u001b[38;5;241m=\u001b[39m \u001b[43mget_handle\u001b[49m\u001b[43m(\u001b[49m\n\u001b[1;32m   1881\u001b[0m \u001b[43m    \u001b[49m\u001b[43mf\u001b[49m\u001b[43m,\u001b[49m\n\u001b[1;32m   1882\u001b[0m \u001b[43m    \u001b[49m\u001b[43mmode\u001b[49m\u001b[43m,\u001b[49m\n\u001b[1;32m   1883\u001b[0m \u001b[43m    \u001b[49m\u001b[43mencoding\u001b[49m\u001b[38;5;241;43m=\u001b[39;49m\u001b[38;5;28;43mself\u001b[39;49m\u001b[38;5;241;43m.\u001b[39;49m\u001b[43moptions\u001b[49m\u001b[38;5;241;43m.\u001b[39;49m\u001b[43mget\u001b[49m\u001b[43m(\u001b[49m\u001b[38;5;124;43m\"\u001b[39;49m\u001b[38;5;124;43mencoding\u001b[39;49m\u001b[38;5;124;43m\"\u001b[39;49m\u001b[43m,\u001b[49m\u001b[43m \u001b[49m\u001b[38;5;28;43;01mNone\u001b[39;49;00m\u001b[43m)\u001b[49m\u001b[43m,\u001b[49m\n\u001b[1;32m   1884\u001b[0m \u001b[43m    \u001b[49m\u001b[43mcompression\u001b[49m\u001b[38;5;241;43m=\u001b[39;49m\u001b[38;5;28;43mself\u001b[39;49m\u001b[38;5;241;43m.\u001b[39;49m\u001b[43moptions\u001b[49m\u001b[38;5;241;43m.\u001b[39;49m\u001b[43mget\u001b[49m\u001b[43m(\u001b[49m\u001b[38;5;124;43m\"\u001b[39;49m\u001b[38;5;124;43mcompression\u001b[39;49m\u001b[38;5;124;43m\"\u001b[39;49m\u001b[43m,\u001b[49m\u001b[43m \u001b[49m\u001b[38;5;28;43;01mNone\u001b[39;49;00m\u001b[43m)\u001b[49m\u001b[43m,\u001b[49m\n\u001b[1;32m   1885\u001b[0m \u001b[43m    \u001b[49m\u001b[43mmemory_map\u001b[49m\u001b[38;5;241;43m=\u001b[39;49m\u001b[38;5;28;43mself\u001b[39;49m\u001b[38;5;241;43m.\u001b[39;49m\u001b[43moptions\u001b[49m\u001b[38;5;241;43m.\u001b[39;49m\u001b[43mget\u001b[49m\u001b[43m(\u001b[49m\u001b[38;5;124;43m\"\u001b[39;49m\u001b[38;5;124;43mmemory_map\u001b[39;49m\u001b[38;5;124;43m\"\u001b[39;49m\u001b[43m,\u001b[49m\u001b[43m \u001b[49m\u001b[38;5;28;43;01mFalse\u001b[39;49;00m\u001b[43m)\u001b[49m\u001b[43m,\u001b[49m\n\u001b[1;32m   1886\u001b[0m \u001b[43m    \u001b[49m\u001b[43mis_text\u001b[49m\u001b[38;5;241;43m=\u001b[39;49m\u001b[43mis_text\u001b[49m\u001b[43m,\u001b[49m\n\u001b[1;32m   1887\u001b[0m \u001b[43m    \u001b[49m\u001b[43merrors\u001b[49m\u001b[38;5;241;43m=\u001b[39;49m\u001b[38;5;28;43mself\u001b[39;49m\u001b[38;5;241;43m.\u001b[39;49m\u001b[43moptions\u001b[49m\u001b[38;5;241;43m.\u001b[39;49m\u001b[43mget\u001b[49m\u001b[43m(\u001b[49m\u001b[38;5;124;43m\"\u001b[39;49m\u001b[38;5;124;43mencoding_errors\u001b[39;49m\u001b[38;5;124;43m\"\u001b[39;49m\u001b[43m,\u001b[49m\u001b[43m \u001b[49m\u001b[38;5;124;43m\"\u001b[39;49m\u001b[38;5;124;43mstrict\u001b[39;49m\u001b[38;5;124;43m\"\u001b[39;49m\u001b[43m)\u001b[49m\u001b[43m,\u001b[49m\n\u001b[1;32m   1888\u001b[0m \u001b[43m    \u001b[49m\u001b[43mstorage_options\u001b[49m\u001b[38;5;241;43m=\u001b[39;49m\u001b[38;5;28;43mself\u001b[39;49m\u001b[38;5;241;43m.\u001b[39;49m\u001b[43moptions\u001b[49m\u001b[38;5;241;43m.\u001b[39;49m\u001b[43mget\u001b[49m\u001b[43m(\u001b[49m\u001b[38;5;124;43m\"\u001b[39;49m\u001b[38;5;124;43mstorage_options\u001b[39;49m\u001b[38;5;124;43m\"\u001b[39;49m\u001b[43m,\u001b[49m\u001b[43m \u001b[49m\u001b[38;5;28;43;01mNone\u001b[39;49;00m\u001b[43m)\u001b[49m\u001b[43m,\u001b[49m\n\u001b[1;32m   1889\u001b[0m \u001b[43m\u001b[49m\u001b[43m)\u001b[49m\n\u001b[1;32m   1890\u001b[0m \u001b[38;5;28;01massert\u001b[39;00m \u001b[38;5;28mself\u001b[39m\u001b[38;5;241m.\u001b[39mhandles \u001b[38;5;129;01mis\u001b[39;00m \u001b[38;5;129;01mnot\u001b[39;00m \u001b[38;5;28;01mNone\u001b[39;00m\n\u001b[1;32m   1891\u001b[0m f \u001b[38;5;241m=\u001b[39m \u001b[38;5;28mself\u001b[39m\u001b[38;5;241m.\u001b[39mhandles\u001b[38;5;241m.\u001b[39mhandle\n",
      "File \u001b[0;32m~/anaconda3/envs/myenv/lib/python3.12/site-packages/pandas/io/common.py:873\u001b[0m, in \u001b[0;36mget_handle\u001b[0;34m(path_or_buf, mode, encoding, compression, memory_map, is_text, errors, storage_options)\u001b[0m\n\u001b[1;32m    868\u001b[0m \u001b[38;5;28;01melif\u001b[39;00m \u001b[38;5;28misinstance\u001b[39m(handle, \u001b[38;5;28mstr\u001b[39m):\n\u001b[1;32m    869\u001b[0m     \u001b[38;5;66;03m# Check whether the filename is to be opened in binary mode.\u001b[39;00m\n\u001b[1;32m    870\u001b[0m     \u001b[38;5;66;03m# Binary mode does not support 'encoding' and 'newline'.\u001b[39;00m\n\u001b[1;32m    871\u001b[0m     \u001b[38;5;28;01mif\u001b[39;00m ioargs\u001b[38;5;241m.\u001b[39mencoding \u001b[38;5;129;01mand\u001b[39;00m \u001b[38;5;124m\"\u001b[39m\u001b[38;5;124mb\u001b[39m\u001b[38;5;124m\"\u001b[39m \u001b[38;5;129;01mnot\u001b[39;00m \u001b[38;5;129;01min\u001b[39;00m ioargs\u001b[38;5;241m.\u001b[39mmode:\n\u001b[1;32m    872\u001b[0m         \u001b[38;5;66;03m# Encoding\u001b[39;00m\n\u001b[0;32m--> 873\u001b[0m         handle \u001b[38;5;241m=\u001b[39m \u001b[38;5;28;43mopen\u001b[39;49m\u001b[43m(\u001b[49m\n\u001b[1;32m    874\u001b[0m \u001b[43m            \u001b[49m\u001b[43mhandle\u001b[49m\u001b[43m,\u001b[49m\n\u001b[1;32m    875\u001b[0m \u001b[43m            \u001b[49m\u001b[43mioargs\u001b[49m\u001b[38;5;241;43m.\u001b[39;49m\u001b[43mmode\u001b[49m\u001b[43m,\u001b[49m\n\u001b[1;32m    876\u001b[0m \u001b[43m            \u001b[49m\u001b[43mencoding\u001b[49m\u001b[38;5;241;43m=\u001b[39;49m\u001b[43mioargs\u001b[49m\u001b[38;5;241;43m.\u001b[39;49m\u001b[43mencoding\u001b[49m\u001b[43m,\u001b[49m\n\u001b[1;32m    877\u001b[0m \u001b[43m            \u001b[49m\u001b[43merrors\u001b[49m\u001b[38;5;241;43m=\u001b[39;49m\u001b[43merrors\u001b[49m\u001b[43m,\u001b[49m\n\u001b[1;32m    878\u001b[0m \u001b[43m            \u001b[49m\u001b[43mnewline\u001b[49m\u001b[38;5;241;43m=\u001b[39;49m\u001b[38;5;124;43m\"\u001b[39;49m\u001b[38;5;124;43m\"\u001b[39;49m\u001b[43m,\u001b[49m\n\u001b[1;32m    879\u001b[0m \u001b[43m        \u001b[49m\u001b[43m)\u001b[49m\n\u001b[1;32m    880\u001b[0m     \u001b[38;5;28;01melse\u001b[39;00m:\n\u001b[1;32m    881\u001b[0m         \u001b[38;5;66;03m# Binary mode\u001b[39;00m\n\u001b[1;32m    882\u001b[0m         handle \u001b[38;5;241m=\u001b[39m \u001b[38;5;28mopen\u001b[39m(handle, ioargs\u001b[38;5;241m.\u001b[39mmode)\n",
      "\u001b[0;31mFileNotFoundError\u001b[0m: [Errno 2] No such file or directory: '../Class_disk-wise-unique/Halpha_emitter_disk_wise_group1-simbad.csv'"
     ]
    }
   ],
   "source": [
    "gdw1 = simad_type(\"../Class_disk-wise-unique/\", \"Halpha_emitter_disk_wise_group1-simbad.csv\")\n",
    "gdw1"
   ]
  },
  {
   "cell_type": "markdown",
   "id": "1908ef7f-d039-4f86-b670-66d071771623",
   "metadata": {},
   "source": [
    "# All wise filters"
   ]
  },
  {
   "cell_type": "code",
   "execution_count": 5,
   "id": "000200c5-b244-4950-9772-3ceef5518f7f",
   "metadata": {},
   "outputs": [
    {
     "name": "stdout",
     "output_type": "stream",
     "text": [
      "wise_group0 , Number of object: 100\n"
     ]
    },
    {
     "data": {
      "text/plain": [
       "{'EmLine*': 36,\n",
       " 'YSO': 15,\n",
       " 'RSCVnV*': 14,\n",
       " 'YSO_Candidate': 8,\n",
       " 'TTauri*': 7,\n",
       " 'EclBin': 6,\n",
       " 'BYDraV*': 5,\n",
       " 'Star': 4,\n",
       " 'OrionV*': 2,\n",
       " 'Be*_Candidate': 1,\n",
       " 'LongPeriodV*_Candidate': 1,\n",
       " 'MidIR': 1}"
      ]
     },
     "execution_count": 5,
     "metadata": {},
     "output_type": "execute_result"
    }
   ],
   "source": [
    "gdww0 = simad_type(\"../Class_wise_allWiseFilters/\", \"Halpha_emitter_wise_group0-simbad.csv\")\n",
    "gdww0"
   ]
  },
  {
   "cell_type": "code",
   "execution_count": 7,
   "id": "78077cc0-4777-4b3c-82b1-dbe73a73d1a0",
   "metadata": {},
   "outputs": [
    {
     "name": "stdout",
     "output_type": "stream",
     "text": [
      "wise_group1 , Number of object: 382\n"
     ]
    },
    {
     "data": {
      "text/plain": [
       "{'EmLine*': 209,\n",
       " 'Be*': 48,\n",
       " 'LongPeriodV*': 25,\n",
       " 'YSO_Candidate': 24,\n",
       " 'TTauri*': 13,\n",
       " 'Star': 13,\n",
       " 'YSO': 10,\n",
       " 'LongPeriodV*_Candidate': 7,\n",
       " 'RSCVnV*': 6,\n",
       " 'OrionV*': 5,\n",
       " 'EclBin': 5,\n",
       " 'Ae*': 3,\n",
       " 'Variable*': 3,\n",
       " 'Be*_Candidate': 2,\n",
       " 'HighMassXBin': 2,\n",
       " 'WolfRayet*': 1,\n",
       " 'BYDraV*': 1,\n",
       " 'CataclyV*_Candidate': 1,\n",
       " '**': 1,\n",
       " 'ChemPec*': 1,\n",
       " 'Symbiotic*': 1,\n",
       " 'HighPM*': 1}"
      ]
     },
     "execution_count": 7,
     "metadata": {},
     "output_type": "execute_result"
    }
   ],
   "source": [
    "gdww1 = simad_type(\"../Class_wise_allWiseFilters/\", \"Halpha_emitter_wise_group1-simbad.csv\")\n",
    "gdww1"
   ]
  },
  {
   "cell_type": "code",
   "execution_count": 8,
   "id": "a3da8a67-0cf8-49d2-a242-3183c6ea119f",
   "metadata": {},
   "outputs": [
    {
     "name": "stdout",
     "output_type": "stream",
     "text": [
      "wise_group3 , Number of object: 155\n"
     ]
    },
    {
     "data": {
      "text/plain": [
       "{'YSO': 45,\n",
       " 'EmLine*': 34,\n",
       " 'YSO_Candidate': 30,\n",
       " 'TTauri*': 11,\n",
       " 'Star': 9,\n",
       " 'OrionV*': 8,\n",
       " 'EclBin': 5,\n",
       " 'RSCVnV*': 4,\n",
       " 'PlanetaryNeb_Candidate': 4,\n",
       " 'LongPeriodV*': 2,\n",
       " 'MidIR': 1,\n",
       " 'CataclyV*_Candidate': 1,\n",
       " '**': 1}"
      ]
     },
     "execution_count": 8,
     "metadata": {},
     "output_type": "execute_result"
    }
   ],
   "source": [
    "gdww3 = simad_type(\"../Class_wise_allWiseFilters/\", \"Halpha_emitter_wise_group3-simbad.csv\")\n",
    "gdww3"
   ]
  },
  {
   "cell_type": "code",
   "execution_count": null,
   "id": "529ea90c-0e8f-4bac-b1e6-a7df4ce6d4b5",
   "metadata": {},
   "outputs": [],
   "source": []
  }
 ],
 "metadata": {
  "kernelspec": {
   "display_name": "Python 3 (ipykernel)",
   "language": "python",
   "name": "python3"
  },
  "language_info": {
   "codemirror_mode": {
    "name": "ipython",
    "version": 3
   },
   "file_extension": ".py",
   "mimetype": "text/x-python",
   "name": "python",
   "nbconvert_exporter": "python",
   "pygments_lexer": "ipython3",
   "version": "3.12.4"
  }
 },
 "nbformat": 4,
 "nbformat_minor": 5
}
