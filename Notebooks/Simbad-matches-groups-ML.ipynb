{
 "cells": [
  {
   "cell_type": "code",
   "execution_count": 1,
   "id": "a787e506",
   "metadata": {},
   "outputs": [],
   "source": [
    "from astropy.io import fits\n",
    "import numpy as np\n",
    "from astropy.table import Table\n",
    "import pandas as pd\n",
    "import glob\n",
    "from astropy.table import vstack\n",
    "import seaborn as sns"
   ]
  },
  {
   "cell_type": "code",
   "execution_count": 2,
   "id": "b9d20a24",
   "metadata": {},
   "outputs": [],
   "source": [
    "def simad_type(Path, file_):\n",
    "    df = pd.read_csv(Path + file_)\n",
    "    print(file_.split(\"emitter_\")[-1].split(\"-sim\")[0], \", Number of object:\", len(df))\n",
    "    dict_simbad_ = df[\"main_type\"].value_counts().to_dict()\n",
    "    return dict_simbad_"
   ]
  },
  {
   "cell_type": "markdown",
   "id": "a19643df",
   "metadata": {},
   "source": [
    "# Main survey"
   ]
  },
  {
   "cell_type": "markdown",
   "id": "1b17ccd5",
   "metadata": {},
   "source": [
    "## Just splus colors "
   ]
  },
  {
   "cell_type": "code",
   "execution_count": 3,
   "id": "7da7d748",
   "metadata": {},
   "outputs": [
    {
     "name": "stdout",
     "output_type": "stream",
     "text": [
      "wise_group0 , Number of object: 1023\n"
     ]
    },
    {
     "data": {
      "text/plain": [
       "{'EmLine*': 567,\n",
       " 'Be*': 156,\n",
       " 'Star': 68,\n",
       " 'YSO_Candidate': 46,\n",
       " 'EclBin': 35,\n",
       " 'YSO': 26,\n",
       " 'CataclyV*': 22,\n",
       " 'RSCVnV*': 21,\n",
       " 'LongPeriodV*': 19,\n",
       " 'TTauri*': 16,\n",
       " 'BYDraV*': 9,\n",
       " 'Variable*': 7,\n",
       " 'HighPM*': 7,\n",
       " 'Be*_Candidate': 5,\n",
       " 'OrionV*': 2,\n",
       " 'PulsV*': 2,\n",
       " '**': 1,\n",
       " 'UV': 1,\n",
       " 'BlueStraggler': 1,\n",
       " 'Low-Mass*': 1,\n",
       " 'LongPeriodV*_Candidate': 1,\n",
       " 'Nova': 1,\n",
       " 'HighMassXBin': 1,\n",
       " 'WhiteDwarf_Candidate': 1,\n",
       " 'ChemPec*': 1,\n",
       " 'CataclyV*_Candidate': 1,\n",
       " 'MidIR': 1,\n",
       " 'delSctV*': 1,\n",
       " 'RRLyrae_Candidate': 1,\n",
       " 'Ae*': 1,\n",
       " 'SB*': 1}"
      ]
     },
     "execution_count": 3,
     "metadata": {},
     "output_type": "execute_result"
    }
   ],
   "source": [
    "g0 = simad_type(\"../Class_wise_v4/\", \"Halpha_emitter_wise_group0-simbad.csv\")\n",
    "g0"
   ]
  },
  {
   "cell_type": "code",
   "execution_count": 4,
   "id": "f2880aaa",
   "metadata": {},
   "outputs": [
    {
     "name": "stdout",
     "output_type": "stream",
     "text": [
      "wise_group1 , Number of object: 500\n"
     ]
    },
    {
     "data": {
      "text/plain": [
       "{'EmLine*': 136,\n",
       " 'YSO': 79,\n",
       " 'YSO_Candidate': 61,\n",
       " 'LongPeriodV*': 49,\n",
       " 'OrionV*': 31,\n",
       " 'LongPeriodV*_Candidate': 27,\n",
       " 'TTauri*': 26,\n",
       " 'RSCVnV*': 25,\n",
       " 'Star': 20,\n",
       " 'EclBin': 10,\n",
       " 'Be*': 9,\n",
       " 'PlanetaryNeb_Candidate': 5,\n",
       " 'AGB*_Candidate': 4,\n",
       " 'BYDraV*': 3,\n",
       " 'PlanetaryNeb': 2,\n",
       " 'Ae*': 2,\n",
       " 'Be*_Candidate': 2,\n",
       " 'Mira': 2,\n",
       " 'HighMassXBin': 1,\n",
       " 'CataclyV*_Candidate': 1,\n",
       " 'WolfRayet*': 1,\n",
       " 'Symbiotic*': 1,\n",
       " '**': 1,\n",
       " 'CataclyV*': 1,\n",
       " 'WolfRayet*_Candidate': 1}"
      ]
     },
     "execution_count": 4,
     "metadata": {},
     "output_type": "execute_result"
    }
   ],
   "source": [
    "g1 = simad_type(\"../Class_wise_v4/\", \"Halpha_emitter_wise_group1-simbad.csv\")\n",
    "g1"
   ]
  },
  {
   "cell_type": "code",
   "execution_count": 5,
   "id": "471f8973",
   "metadata": {},
   "outputs": [
    {
     "name": "stdout",
     "output_type": "stream",
     "text": [
      "wise_group2 , Number of object: 77\n"
     ]
    },
    {
     "data": {
      "text/plain": [
       "{'YSO': 26,\n",
       " 'EmLine*': 13,\n",
       " 'YSO_Candidate': 11,\n",
       " 'OrionV*': 11,\n",
       " 'TTauri*': 8,\n",
       " 'BYDraV*': 3,\n",
       " 'Star': 2,\n",
       " 'LongPeriodV*': 1,\n",
       " 'RSCVnV*': 1,\n",
       " 'RRLyrae': 1}"
      ]
     },
     "execution_count": 5,
     "metadata": {},
     "output_type": "execute_result"
    }
   ],
   "source": [
    "g2 = simad_type(\"../Class_wise_v4/\", \"Halpha_emitter_wise_group2-simbad.csv\")\n",
    "g2"
   ]
  },
  {
   "cell_type": "code",
   "execution_count": 6,
   "id": "2b5585fa",
   "metadata": {},
   "outputs": [
    {
     "name": "stdout",
     "output_type": "stream",
     "text": [
      "wise_group3 , Number of object: 79\n"
     ]
    },
    {
     "data": {
      "text/plain": [
       "{'EmLine*': 28,\n",
       " 'YSO': 16,\n",
       " 'OrionV*': 8,\n",
       " 'TTauri*': 7,\n",
       " 'Star': 7,\n",
       " 'LongPeriodV*': 6,\n",
       " 'YSO_Candidate': 3,\n",
       " 'LongPeriodV*_Candidate': 2,\n",
       " 'BYDraV*': 2}"
      ]
     },
     "execution_count": 6,
     "metadata": {},
     "output_type": "execute_result"
    }
   ],
   "source": [
    "g3 = simad_type(\"../Class_wise_v4/\", \"Halpha_emitter_wise_group3-simbad.csv\")\n",
    "g3"
   ]
  },
  {
   "cell_type": "code",
   "execution_count": 7,
   "id": "0d4c41e3-ca29-40bd-ba2c-16c783816b1f",
   "metadata": {},
   "outputs": [
    {
     "name": "stdout",
     "output_type": "stream",
     "text": [
      "wise_group4 , Number of object: 202\n"
     ]
    },
    {
     "data": {
      "text/plain": [
       "{'YSO_Candidate': 42,\n",
       " 'YSO': 41,\n",
       " 'EmLine*': 27,\n",
       " 'TTauri*': 22,\n",
       " 'Star': 19,\n",
       " 'PlanetaryNeb': 15,\n",
       " 'OrionV*': 10,\n",
       " 'PlanetaryNeb_Candidate': 9,\n",
       " 'LongPeriodV*': 5,\n",
       " 'BYDraV*': 4,\n",
       " 'RSCVnV*': 3,\n",
       " 'EclBin': 3,\n",
       " 'TTauri*_Candidate': 1,\n",
       " 'RRLyrae_Candidate': 1}"
      ]
     },
     "execution_count": 7,
     "metadata": {},
     "output_type": "execute_result"
    }
   ],
   "source": [
    "g4 = simad_type(\"../Class_wise_v4/\", \"Halpha_emitter_wise_group4-simbad.csv\")\n",
    "g4"
   ]
  },
  {
   "cell_type": "code",
   "execution_count": 8,
   "id": "6f0ce19b-e190-41da-a009-88d008951b5e",
   "metadata": {},
   "outputs": [
    {
     "name": "stdout",
     "output_type": "stream",
     "text": [
      "wise_noise , Number of object: 995\n"
     ]
    },
    {
     "data": {
      "text/plain": [
       "{'EmLine*': 348,\n",
       " 'YSO': 155,\n",
       " 'YSO_Candidate': 119,\n",
       " 'TTauri*': 95,\n",
       " 'OrionV*': 53,\n",
       " 'Star': 46,\n",
       " 'RSCVnV*': 40,\n",
       " 'LongPeriodV*': 27,\n",
       " 'EclBin': 26,\n",
       " 'BYDraV*': 20,\n",
       " 'Be*': 11,\n",
       " 'LongPeriodV*_Candidate': 9,\n",
       " 'Variable*': 9,\n",
       " 'CataclyV*': 7,\n",
       " 'CataclyV*_Candidate': 5,\n",
       " 'PlanetaryNeb': 5,\n",
       " 'PlanetaryNeb_Candidate': 4,\n",
       " 'HighPM*': 3,\n",
       " 'Mira': 2,\n",
       " 'Ae*': 2,\n",
       " '**': 2,\n",
       " 'Symbiotic*': 2,\n",
       " 'Infrared': 1,\n",
       " 'ClassicalCep': 1,\n",
       " 'MidIR': 1,\n",
       " 'Ae*_Candidate': 1,\n",
       " 'Transient': 1}"
      ]
     },
     "execution_count": 8,
     "metadata": {},
     "output_type": "execute_result"
    }
   ],
   "source": [
    "g_noise = simad_type(\"../Class_wise_v4/\", \"Halpha_emitter_wise_noise-simbad.csv\")\n",
    "g_noise"
   ]
  },
  {
   "cell_type": "markdown",
   "id": "d912a70f",
   "metadata": {},
   "source": [
    "## All colors (except the r-filter for variability)"
   ]
  },
  {
   "cell_type": "code",
   "execution_count": 9,
   "id": "2185ace4",
   "metadata": {},
   "outputs": [
    {
     "name": "stdout",
     "output_type": "stream",
     "text": [
      "wise_group0 , Number of object: 75\n",
      "Group0 {'EmLine*': 28, 'YSO': 14, 'YSO_Candidate': 7, 'Be*': 7, 'TTauri*': 4, 'EclBin': 3, 'OrionV*': 3, 'LongPeriodV*': 3, 'Variable*': 2, 'Star': 2, 'RSCVnV*': 1, 'Ae*_Candidate': 1}\n"
     ]
    }
   ],
   "source": [
    "gw0 = simad_type(\"../Class_wise/\", \"Halpha_emitter_wise_group0-simbad.csv\")\n",
    "print(\"Group0\", gw0)"
   ]
  },
  {
   "cell_type": "code",
   "execution_count": 10,
   "id": "0c2cda28",
   "metadata": {},
   "outputs": [
    {
     "name": "stdout",
     "output_type": "stream",
     "text": [
      "wise_group1 , Number of object: 1062\n",
      "Group1 {'EmLine*': 615, 'Be*': 157, 'Star': 66, 'YSO_Candidate': 41, 'EclBin': 33, 'CataclyV*': 27, 'YSO': 18, 'LongPeriodV*': 17, 'RSCVnV*': 14, 'TTauri*': 13, 'Variable*': 10, 'HighPM*': 10, 'BYDraV*': 9, 'Be*_Candidate': 5, 'CataclyV*_Candidate': 4, 'OrionV*': 3, 'HighMassXBin': 2, 'LongPeriodV*_Candidate': 2, 'PulsV*': 2, 'PlanetaryNeb': 1, 'Nova': 1, 'UV': 1, 'BlueStraggler': 1, 'Low-Mass*': 1, 'Transient': 1, 'ChemPec*': 1, '**': 1, 'WhiteDwarf_Candidate': 1, 'Mira': 1, 'delSctV*': 1, 'RRLyrae_Candidate': 1, 'Ae*': 1, 'SB*': 1}\n"
     ]
    }
   ],
   "source": [
    "gw1 = simad_type(\"../Class_wise/\", \"Halpha_emitter_wise_group1-simbad.csv\")\n",
    "print(\"Group1\", gw1)"
   ]
  },
  {
   "cell_type": "code",
   "execution_count": 11,
   "id": "a4c6dfc0",
   "metadata": {},
   "outputs": [
    {
     "name": "stdout",
     "output_type": "stream",
     "text": [
      "wise_group2 , Number of object: 155\n",
      "Group2 {'EmLine*': 41, 'YSO': 26, 'YSO_Candidate': 24, 'TTauri*': 24, 'Star': 12, 'OrionV*': 12, 'PlanetaryNeb': 3, 'LongPeriodV*': 3, 'BYDraV*': 3, 'EclBin': 2, 'PlanetaryNeb_Candidate': 2, 'TTauri*_Candidate': 1, 'RSCVnV*': 1, 'CataclyV*_Candidate': 1}\n"
     ]
    }
   ],
   "source": [
    "gw2 = simad_type(\"../Class_wise/\", \"Halpha_emitter_wise_group2-simbad.csv\")\n",
    "print(\"Group2\",gw2)"
   ]
  },
  {
   "cell_type": "code",
   "execution_count": 12,
   "id": "6dd4361a",
   "metadata": {},
   "outputs": [
    {
     "name": "stdout",
     "output_type": "stream",
     "text": [
      "wise_group3 , Number of object: 94\n",
      "Gropu3 {'YSO_Candidate': 21, 'YSO': 19, 'EmLine*': 18, 'RSCVnV*': 11, 'OrionV*': 8, 'Star': 6, 'EclBin': 4, 'TTauri*': 3, 'LongPeriodV*_Candidate': 2, '**': 1, 'MidIR': 1}\n"
     ]
    }
   ],
   "source": [
    "gw3 = simad_type(\"../Class_wise/\", \"Halpha_emitter_wise_group3-simbad.csv\")\n",
    "print(\"Gropu3\", gw3)"
   ]
  },
  {
   "cell_type": "code",
   "execution_count": 13,
   "id": "80b3eed9",
   "metadata": {},
   "outputs": [
    {
     "name": "stdout",
     "output_type": "stream",
     "text": [
      "wise_group4 , Number of object: 116\n",
      "Gropu4 {'EmLine*': 40, 'YSO_Candidate': 18, 'LongPeriodV*': 12, 'LongPeriodV*_Candidate': 9, 'YSO': 7, 'EclBin': 6, 'TTauri*': 6, 'Be*': 6, 'OrionV*': 5, 'Star': 3, 'RSCVnV*': 2, 'Ae*': 1, 'WolfRayet*': 1}\n"
     ]
    }
   ],
   "source": [
    "gw4 = simad_type(\"../Class_wise/\", \"Halpha_emitter_wise_group4-simbad.csv\")\n",
    "print(\"Gropu4\", gw4)"
   ]
  },
  {
   "cell_type": "code",
   "execution_count": 14,
   "id": "596a18cc",
   "metadata": {},
   "outputs": [
    {
     "name": "stdout",
     "output_type": "stream",
     "text": [
      "wise_group5 , Number of object: 87\n",
      "Gropu5 {'EmLine*': 25, 'YSO': 12, 'LongPeriodV*': 9, 'YSO_Candidate': 9, 'LongPeriodV*_Candidate': 8, 'RSCVnV*': 5, 'OrionV*': 5, 'EclBin': 3, 'TTauri*': 3, 'BYDraV*': 2, 'Be*': 2, 'ClassicalCep': 1, 'Ae*': 1, 'Star': 1, 'RRLyrae': 1}\n"
     ]
    }
   ],
   "source": [
    "gw5 = simad_type(\"../Class_wise/\", \"Halpha_emitter_wise_group5-simbad.csv\")\n",
    "print(\"Gropu5\", gw5)"
   ]
  },
  {
   "cell_type": "code",
   "execution_count": 15,
   "id": "7cf1d346",
   "metadata": {},
   "outputs": [
    {
     "name": "stdout",
     "output_type": "stream",
     "text": [
      "wise_group6 , Number of object: 225\n",
      "Gropu6 {'YSO': 59, 'EmLine*': 36, 'YSO_Candidate': 35, 'LongPeriodV*': 25, 'OrionV*': 18, 'Star': 13, 'PlanetaryNeb_Candidate': 8, 'LongPeriodV*_Candidate': 6, 'TTauri*': 5, 'RSCVnV*': 3, 'PlanetaryNeb': 3, 'AGB*_Candidate': 3, 'BYDraV*': 2, 'Mira': 2, 'Be*_Candidate': 2, 'Infrared': 1, 'Variable*': 1, 'Ae*': 1, 'EclBin': 1, 'WolfRayet*_Candidate': 1}\n"
     ]
    }
   ],
   "source": [
    "gw6 = simad_type(\"../Class_wise/\", \"Halpha_emitter_wise_group6-simbad.csv\")\n",
    "print(\"Gropu6\", gw6)"
   ]
  },
  {
   "cell_type": "markdown",
   "id": "347b7613-4c3f-445a-acf3-01a0bd567c29",
   "metadata": {},
   "source": [
    "# Disk "
   ]
  },
  {
   "cell_type": "markdown",
   "id": "79ec3acf-4343-4a03-8714-9ad2f9c502de",
   "metadata": {},
   "source": [
    "## Just SPLUS"
   ]
  },
  {
   "cell_type": "code",
   "execution_count": 25,
   "id": "ccad4fbf-610e-4161-890f-15ad31309d1d",
   "metadata": {},
   "outputs": [
    {
     "name": "stdout",
     "output_type": "stream",
     "text": [
      "Number of object: 29\n"
     ]
    },
    {
     "data": {
      "text/plain": [
       "{'Em*': 7,\n",
       " 'Star': 5,\n",
       " 'CataclyV*': 4,\n",
       " 'Hsd_Candidate': 3,\n",
       " 'V*': 2,\n",
       " 'WD*_Candidate': 2,\n",
       " 'CV*_Candidate': 1,\n",
       " 'RRLyr': 1,\n",
       " 'Transient': 1,\n",
       " 'X': 1,\n",
       " 'Nova': 1,\n",
       " 'PulsV*': 1}"
      ]
     },
     "execution_count": 25,
     "metadata": {},
     "output_type": "execute_result"
    }
   ],
   "source": [
    "gd0 = simad_type(\"../Class_disk-unique/\", \"Halpha_emitter_disk_group0_simbad.csv\")\n",
    "gd0"
   ]
  },
  {
   "cell_type": "code",
   "execution_count": 24,
   "id": "11233355-ed39-441e-95dc-759dbfd058a4",
   "metadata": {},
   "outputs": [
    {
     "name": "stdout",
     "output_type": "stream",
     "text": [
      "Number of object: 106\n"
     ]
    },
    {
     "data": {
      "text/plain": [
       "{'Em*': 58,\n",
       " 'YSO_Candidate': 29,\n",
       " 'Star': 7,\n",
       " 'LP*_Candidate': 3,\n",
       " 'RSCVn': 2,\n",
       " 'YSO': 2,\n",
       " 'EB*': 1,\n",
       " 'BYDra': 1,\n",
       " '**': 1,\n",
       " 'TTau*_Candidate': 1,\n",
       " 'Orion_V*': 1}"
      ]
     },
     "execution_count": 24,
     "metadata": {},
     "output_type": "execute_result"
    }
   ],
   "source": [
    "gd1 = simad_type(\"../Class_disk-unique/\", \"Halpha_emitter_disk_group1_simbad.csv\")\n",
    "gd1"
   ]
  },
  {
   "cell_type": "code",
   "execution_count": 23,
   "id": "846c8c77-5532-4dcb-aa23-c05ddeeb93a3",
   "metadata": {},
   "outputs": [
    {
     "name": "stdout",
     "output_type": "stream",
     "text": [
      "Number of object: 205\n"
     ]
    },
    {
     "data": {
      "text/plain": [
       "{'Star': 77,\n",
       " 'EB*_Candidate': 38,\n",
       " 'SB*': 16,\n",
       " 'EB*': 15,\n",
       " 'V*': 8,\n",
       " 'PulsV*delSct': 7,\n",
       " 'Em*': 7,\n",
       " 'RRLyr': 6,\n",
       " 'YSO_Candidate': 4,\n",
       " 'LPV*': 4,\n",
       " 'LP*_Candidate': 4,\n",
       " 'PulsV*': 3,\n",
       " 'Be*': 3,\n",
       " 'RGB*': 2,\n",
       " 'EmObj': 2,\n",
       " '**': 2,\n",
       " 'YSO': 2,\n",
       " 'C*': 1,\n",
       " 'deltaCep': 1,\n",
       " 'V*?_Candidate': 1,\n",
       " 'Cepheid_Candidate': 1,\n",
       " 'Ae*_Candidate': 1}"
      ]
     },
     "execution_count": 23,
     "metadata": {},
     "output_type": "execute_result"
    }
   ],
   "source": [
    "gd2 = simad_type(\"../Class_disk-unique/\", \"Halpha_emitter_disk_group2_simbad.csv\")\n",
    "gd2"
   ]
  },
  {
   "cell_type": "code",
   "execution_count": 22,
   "id": "bb3b184d-eefe-424e-9a3b-22444e7de3e0",
   "metadata": {},
   "outputs": [
    {
     "name": "stdout",
     "output_type": "stream",
     "text": [
      "Number of object: 10\n"
     ]
    },
    {
     "data": {
      "text/plain": [
       "{'Star': 3, 'Em*': 2, 'V*': 2, '**': 1, 'PulsV*': 1, 'SB*': 1}"
      ]
     },
     "execution_count": 22,
     "metadata": {},
     "output_type": "execute_result"
    }
   ],
   "source": [
    "gdnoise = simad_type(\"../Class_disk-unique/\", \"Halpha_emitter_disk_group_noise_simbad.csv\")\n",
    "gdnoise"
   ]
  },
  {
   "cell_type": "markdown",
   "id": "616ae761-a6ac-44cc-b560-bb9b03201652",
   "metadata": {},
   "source": [
    "## SPLUS + WISE (disk)"
   ]
  },
  {
   "cell_type": "code",
   "execution_count": 28,
   "id": "31e5565f-bd1a-49b8-bf8c-8e6af5ad8597",
   "metadata": {},
   "outputs": [
    {
     "name": "stdout",
     "output_type": "stream",
     "text": [
      "Number of object: 105\n"
     ]
    },
    {
     "data": {
      "text/plain": [
       "{'Em*': 57,\n",
       " 'YSO_Candidate': 29,\n",
       " 'Star': 7,\n",
       " 'LP*_Candidate': 3,\n",
       " 'YSO': 2,\n",
       " 'BYDra': 1,\n",
       " 'RSCVn': 1,\n",
       " '**': 1,\n",
       " 'TTau*_Candidate': 1,\n",
       " 'V*': 1,\n",
       " 'Ae*_Candidate': 1,\n",
       " 'LPV*': 1}"
      ]
     },
     "execution_count": 28,
     "metadata": {},
     "output_type": "execute_result"
    }
   ],
   "source": [
    "gdw0 = simad_type(\"../Class_disk-wise-unique/\", \"Halpha_emitter_disk_wise_group0-simbad.csv\")\n",
    "gdw0"
   ]
  },
  {
   "cell_type": "code",
   "execution_count": 29,
   "id": "071efd06-a6a8-47c9-9824-835e9ded1e47",
   "metadata": {},
   "outputs": [
    {
     "name": "stdout",
     "output_type": "stream",
     "text": [
      "Number of object: 216\n"
     ]
    },
    {
     "data": {
      "text/plain": [
       "{'Star': 77,\n",
       " 'EB*_Candidate': 37,\n",
       " 'SB*': 17,\n",
       " 'EB*': 14,\n",
       " 'Em*': 13,\n",
       " 'V*': 9,\n",
       " 'PulsV*delSct': 7,\n",
       " 'RRLyr': 6,\n",
       " 'PulsV*': 5,\n",
       " 'LP*_Candidate': 4,\n",
       " 'LPV*': 3,\n",
       " 'Be*': 3,\n",
       " 'YSO_Candidate': 3,\n",
       " 'CataclyV*': 3,\n",
       " 'Hsd_Candidate': 2,\n",
       " 'RGB*': 2,\n",
       " '**': 2,\n",
       " 'YSO': 2,\n",
       " 'X': 1,\n",
       " 'EmObj': 1,\n",
       " 'CV*_Candidate': 1,\n",
       " 'C*': 1,\n",
       " 'deltaCep': 1,\n",
       " 'V*?_Candidate': 1,\n",
       " 'Cepheid_Candidate': 1}"
      ]
     },
     "execution_count": 29,
     "metadata": {},
     "output_type": "execute_result"
    }
   ],
   "source": [
    "gdw1 = simad_type(\"../Class_disk-wise-unique/\", \"Halpha_emitter_disk_wise_group1-simbad.csv\")\n",
    "gdw1"
   ]
  },
  {
   "cell_type": "code",
   "execution_count": null,
   "id": "46cc36dc-a34b-43c0-bad6-e992b250ede7",
   "metadata": {},
   "outputs": [],
   "source": []
  }
 ],
 "metadata": {
  "kernelspec": {
   "display_name": "Python 3 (ipykernel)",
   "language": "python",
   "name": "python3"
  },
  "language_info": {
   "codemirror_mode": {
    "name": "ipython",
    "version": 3
   },
   "file_extension": ".py",
   "mimetype": "text/x-python",
   "name": "python",
   "nbconvert_exporter": "python",
   "pygments_lexer": "ipython3",
   "version": "3.12.4"
  }
 },
 "nbformat": 4,
 "nbformat_minor": 5
}
